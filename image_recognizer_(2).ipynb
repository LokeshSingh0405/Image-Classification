{
  "nbformat": 4,
  "nbformat_minor": 5,
  "metadata": {
    "kernelspec": {
      "display_name": "Python 3",
      "language": "python",
      "name": "python3"
    },
    "language_info": {
      "codemirror_mode": {
        "name": "ipython",
        "version": 3
      },
      "file_extension": ".py",
      "mimetype": "text/x-python",
      "name": "python",
      "nbconvert_exporter": "python",
      "pygments_lexer": "ipython3",
      "version": "3.8.8"
    },
    "papermill": {
      "default_parameters": {},
      "duration": 405.499865,
      "end_time": "2021-08-10T09:03:33.206543",
      "environment_variables": {},
      "exception": null,
      "input_path": "__notebook__.ipynb",
      "output_path": "__notebook__.ipynb",
      "parameters": {},
      "start_time": "2021-08-10T08:56:47.706678",
      "version": "2.3.3"
    },
    "colab": {
      "name": "image_recognizer_(2).ipynb",
      "provenance": [],
      "include_colab_link": true
    }
  },
  "cells": [
    {
      "cell_type": "markdown",
      "metadata": {
        "id": "view-in-github",
        "colab_type": "text"
      },
      "source": [
        "<a href=\"https://colab.research.google.com/github/Lokeshgehlot0405/Image-Classification/blob/main/image_recognizer_(2).ipynb\" target=\"_parent\"><img src=\"https://colab.research.google.com/assets/colab-badge.svg\" alt=\"Open In Colab\"/></a>"
      ]
    },
    {
      "cell_type": "markdown",
      "metadata": {
        "id": "29a0ea42"
      },
      "source": [
        "# BACKEND PART / MODEL"
      ],
      "id": "29a0ea42"
    },
    {
      "cell_type": "code",
      "metadata": {
        "_cell_guid": "b1076dfc-b9ad-4769-8c92-a6c4dae69d19",
        "_uuid": "8f2839f25d086af736a60e9eeb907d3b93b6e0e5",
        "execution": {
          "iopub.execute_input": "2021-08-10T08:56:55.941939Z",
          "iopub.status.busy": "2021-08-10T08:56:55.940173Z",
          "iopub.status.idle": "2021-08-10T08:57:01.891134Z",
          "shell.execute_reply": "2021-08-10T08:57:01.890013Z",
          "shell.execute_reply.started": "2021-08-10T08:20:13.965095Z"
        },
        "papermill": {
          "duration": 5.974535,
          "end_time": "2021-08-10T08:57:01.891305",
          "exception": false,
          "start_time": "2021-08-10T08:56:55.916770",
          "status": "completed"
        },
        "tags": [],
        "id": "e0f7f77a"
      },
      "source": [
        "import tensorflow as tf\n",
        "from tensorflow.keras import datasets, layers, models\n",
        "import matplotlib.pyplot as plt\n",
        "import numpy as np"
      ],
      "id": "e0f7f77a",
      "execution_count": 1,
      "outputs": []
    },
    {
      "cell_type": "code",
      "metadata": {
        "execution": {
          "iopub.execute_input": "2021-08-10T08:57:01.935988Z",
          "iopub.status.busy": "2021-08-10T08:57:01.935291Z",
          "iopub.status.idle": "2021-08-10T08:57:11.054771Z",
          "shell.execute_reply": "2021-08-10T08:57:11.054251Z",
          "shell.execute_reply.started": "2021-08-10T08:20:13.974553Z"
        },
        "papermill": {
          "duration": 9.145021,
          "end_time": "2021-08-10T08:57:11.054914",
          "exception": false,
          "start_time": "2021-08-10T08:57:01.909893",
          "status": "completed"
        },
        "tags": [],
        "colab": {
          "base_uri": "https://localhost:8080/"
        },
        "id": "663983a7",
        "outputId": "a9b481fd-ba86-483a-8206-a2e4277e0ff0"
      },
      "source": [
        "(X_train, y_train), (X_test,y_test) = datasets.cifar10.load_data()\n",
        "X_train.shape"
      ],
      "id": "663983a7",
      "execution_count": 2,
      "outputs": [
        {
          "output_type": "stream",
          "name": "stdout",
          "text": [
            "Downloading data from https://www.cs.toronto.edu/~kriz/cifar-10-python.tar.gz\n",
            "170500096/170498071 [==============================] - 4s 0us/step\n",
            "170508288/170498071 [==============================] - 4s 0us/step\n"
          ]
        },
        {
          "output_type": "execute_result",
          "data": {
            "text/plain": [
              "(50000, 32, 32, 3)"
            ]
          },
          "metadata": {},
          "execution_count": 2
        }
      ]
    },
    {
      "cell_type": "code",
      "metadata": {
        "execution": {
          "iopub.execute_input": "2021-08-10T08:57:11.175362Z",
          "iopub.status.busy": "2021-08-10T08:57:11.174696Z",
          "iopub.status.idle": "2021-08-10T08:57:11.176734Z",
          "shell.execute_reply": "2021-08-10T08:57:11.177240Z",
          "shell.execute_reply.started": "2021-08-10T08:20:18.623932Z"
        },
        "papermill": {
          "duration": 0.064259,
          "end_time": "2021-08-10T08:57:11.177414",
          "exception": false,
          "start_time": "2021-08-10T08:57:11.113155",
          "status": "completed"
        },
        "tags": [],
        "id": "196c7b30"
      },
      "source": [
        "y_train = y_train.reshape(-1,)\n",
        "y_test = y_test.reshape(-1,)"
      ],
      "id": "196c7b30",
      "execution_count": 3,
      "outputs": []
    },
    {
      "cell_type": "code",
      "metadata": {
        "execution": {
          "iopub.execute_input": "2021-08-10T08:57:11.294567Z",
          "iopub.status.busy": "2021-08-10T08:57:11.293892Z",
          "iopub.status.idle": "2021-08-10T08:57:11.298077Z",
          "shell.execute_reply": "2021-08-10T08:57:11.298661Z",
          "shell.execute_reply.started": "2021-08-10T08:20:18.631599Z"
        },
        "papermill": {
          "duration": 0.064493,
          "end_time": "2021-08-10T08:57:11.298846",
          "exception": false,
          "start_time": "2021-08-10T08:57:11.234353",
          "status": "completed"
        },
        "tags": [],
        "id": "32b134e3"
      },
      "source": [
        "classes = [\"airplane\",\"automobile\",\"bird\",\"cat\",\"deer\",\"dog\",\"frog\",\"horse\",\"ship\",\"truck\"]"
      ],
      "id": "32b134e3",
      "execution_count": 4,
      "outputs": []
    },
    {
      "cell_type": "code",
      "metadata": {
        "execution": {
          "iopub.execute_input": "2021-08-10T08:57:11.417005Z",
          "iopub.status.busy": "2021-08-10T08:57:11.416317Z",
          "iopub.status.idle": "2021-08-10T08:57:12.049117Z",
          "shell.execute_reply": "2021-08-10T08:57:12.049636Z",
          "shell.execute_reply.started": "2021-08-10T08:20:18.642359Z"
        },
        "papermill": {
          "duration": 0.693744,
          "end_time": "2021-08-10T08:57:12.049834",
          "exception": false,
          "start_time": "2021-08-10T08:57:11.356090",
          "status": "completed"
        },
        "tags": [],
        "id": "910f629a"
      },
      "source": [
        "X_train = X_train / 255.0\n",
        "X_test = X_test / 255.0"
      ],
      "id": "910f629a",
      "execution_count": 5,
      "outputs": []
    },
    {
      "cell_type": "code",
      "metadata": {
        "execution": {
          "iopub.execute_input": "2021-08-10T08:57:12.167095Z",
          "iopub.status.busy": "2021-08-10T08:57:12.166462Z",
          "iopub.status.idle": "2021-08-10T08:57:12.171438Z",
          "shell.execute_reply": "2021-08-10T08:57:12.170911Z",
          "shell.execute_reply.started": "2021-08-10T08:20:19.287941Z"
        },
        "papermill": {
          "duration": 0.064806,
          "end_time": "2021-08-10T08:57:12.171616",
          "exception": false,
          "start_time": "2021-08-10T08:57:12.106810",
          "status": "completed"
        },
        "tags": [],
        "id": "f4cf9ba6"
      },
      "source": [
        "# ann = models.Sequential([\n",
        "#         layers.Flatten(input_shape=(32,32,3)),\n",
        "#         layers.Dense(3000, activation='relu'),\n",
        "#         layers.Dense(1000, activation='relu'),\n",
        "#         layers.Dense(10, activation='softmax')    \n",
        "#     ])\n",
        "\n",
        "# ann.compile(optimizer='SGD',\n",
        "#               loss='sparse_categorical_crossentropy',\n",
        "#               metrics=['accuracy'])\n",
        "\n",
        "# ann.fit(X_train, y_train, epochs=5)"
      ],
      "id": "f4cf9ba6",
      "execution_count": 6,
      "outputs": []
    },
    {
      "cell_type": "code",
      "metadata": {
        "execution": {
          "iopub.execute_input": "2021-08-10T08:57:12.290362Z",
          "iopub.status.busy": "2021-08-10T08:57:12.289746Z",
          "iopub.status.idle": "2021-08-10T08:57:12.292262Z",
          "shell.execute_reply": "2021-08-10T08:57:12.292772Z",
          "shell.execute_reply.started": "2021-08-10T08:25:48.402265Z"
        },
        "papermill": {
          "duration": 0.063691,
          "end_time": "2021-08-10T08:57:12.292940",
          "exception": false,
          "start_time": "2021-08-10T08:57:12.229249",
          "status": "completed"
        },
        "tags": [],
        "id": "909c8b71"
      },
      "source": [
        "# from sklearn.metrics import confusion_matrix , classification_report\n",
        "# import numpy as np\n",
        "# y_pred = ann.predict(X_test)\n",
        "# y_pred_classes = [np.argmax(element) for element in y_pred]\n",
        "\n",
        "# print(\"Classification Report: \\n\", classification_report(y_test, y_pred_classes))"
      ],
      "id": "909c8b71",
      "execution_count": 7,
      "outputs": []
    },
    {
      "cell_type": "code",
      "metadata": {
        "execution": {
          "iopub.execute_input": "2021-08-10T08:57:12.413778Z",
          "iopub.status.busy": "2021-08-10T08:57:12.412920Z",
          "iopub.status.idle": "2021-08-10T08:57:12.542300Z",
          "shell.execute_reply": "2021-08-10T08:57:12.541177Z",
          "shell.execute_reply.started": "2021-08-10T08:25:54.227114Z"
        },
        "papermill": {
          "duration": 0.192851,
          "end_time": "2021-08-10T08:57:12.542483",
          "exception": false,
          "start_time": "2021-08-10T08:57:12.349632",
          "status": "completed"
        },
        "tags": [],
        "id": "788c3280"
      },
      "source": [
        "cnn = models.Sequential([\n",
        "    layers.Conv2D(filters=32, kernel_size=(3, 3), activation='relu', input_shape=(32, 32, 3)),\n",
        "    layers.MaxPooling2D((2, 2)),\n",
        "    \n",
        "    layers.Conv2D(filters=64, kernel_size=(3, 3), activation='relu'),\n",
        "    layers.MaxPooling2D((2, 2)),\n",
        "    \n",
        "    layers.Flatten(),\n",
        "    layers.Dense(64, activation='relu'),\n",
        "    layers.Dense(10, activation='softmax')\n",
        "])"
      ],
      "id": "788c3280",
      "execution_count": 8,
      "outputs": []
    },
    {
      "cell_type": "code",
      "metadata": {
        "execution": {
          "iopub.execute_input": "2021-08-10T08:57:12.669615Z",
          "iopub.status.busy": "2021-08-10T08:57:12.662679Z",
          "iopub.status.idle": "2021-08-10T09:02:37.011291Z",
          "shell.execute_reply": "2021-08-10T09:02:37.011807Z",
          "shell.execute_reply.started": "2021-08-10T08:35:59.290212Z"
        },
        "papermill": {
          "duration": 324.41221,
          "end_time": "2021-08-10T09:02:37.012020",
          "exception": false,
          "start_time": "2021-08-10T08:57:12.599810",
          "status": "completed"
        },
        "tags": [],
        "colab": {
          "base_uri": "https://localhost:8080/"
        },
        "id": "0f97b3a8",
        "outputId": "4b6c89b8-4d6b-4866-f57f-496d7502090c"
      },
      "source": [
        "cnn.compile(optimizer='adamax',\n",
        "              loss='sparse_categorical_crossentropy',\n",
        "              metrics=['accuracy'])\n",
        "cnn.fit(X_train, y_train, epochs=10)"
      ],
      "id": "0f97b3a8",
      "execution_count": 9,
      "outputs": [
        {
          "output_type": "stream",
          "name": "stdout",
          "text": [
            "Epoch 1/10\n",
            "1563/1563 [==============================] - 63s 40ms/step - loss: 1.6723 - accuracy: 0.4033\n",
            "Epoch 2/10\n",
            "1563/1563 [==============================] - 62s 40ms/step - loss: 1.3520 - accuracy: 0.5208\n",
            "Epoch 3/10\n",
            "1563/1563 [==============================] - 62s 40ms/step - loss: 1.2101 - accuracy: 0.5756\n",
            "Epoch 4/10\n",
            "1563/1563 [==============================] - 62s 39ms/step - loss: 1.1146 - accuracy: 0.6109\n",
            "Epoch 5/10\n",
            "1563/1563 [==============================] - 62s 39ms/step - loss: 1.0349 - accuracy: 0.6417\n",
            "Epoch 6/10\n",
            "1563/1563 [==============================] - 61s 39ms/step - loss: 0.9751 - accuracy: 0.6631\n",
            "Epoch 7/10\n",
            "1563/1563 [==============================] - 61s 39ms/step - loss: 0.9199 - accuracy: 0.6819\n",
            "Epoch 8/10\n",
            "1563/1563 [==============================] - 61s 39ms/step - loss: 0.8758 - accuracy: 0.6957\n",
            "Epoch 9/10\n",
            "1563/1563 [==============================] - 61s 39ms/step - loss: 0.8356 - accuracy: 0.7114\n",
            "Epoch 10/10\n",
            "1563/1563 [==============================] - 61s 39ms/step - loss: 0.8017 - accuracy: 0.7242\n"
          ]
        },
        {
          "output_type": "execute_result",
          "data": {
            "text/plain": [
              "<keras.callbacks.History at 0x7fd77fe10e90>"
            ]
          },
          "metadata": {},
          "execution_count": 9
        }
      ]
    },
    {
      "cell_type": "code",
      "metadata": {
        "execution": {
          "iopub.execute_input": "2021-08-10T09:02:40.432337Z",
          "iopub.status.busy": "2021-08-10T09:02:40.431682Z",
          "iopub.status.idle": "2021-08-10T09:02:43.022804Z",
          "shell.execute_reply": "2021-08-10T09:02:43.022219Z",
          "shell.execute_reply.started": "2021-08-10T08:42:35.307683Z"
        },
        "papermill": {
          "duration": 4.267274,
          "end_time": "2021-08-10T09:02:43.022949",
          "exception": false,
          "start_time": "2021-08-10T09:02:38.755675",
          "status": "completed"
        },
        "tags": [],
        "colab": {
          "base_uri": "https://localhost:8080/"
        },
        "id": "fb28ab9c",
        "outputId": "29ddba1e-a5ad-4ce7-dcd3-87727cf49672"
      },
      "source": [
        "cnn.evaluate(X_test,y_test)"
      ],
      "id": "fb28ab9c",
      "execution_count": 10,
      "outputs": [
        {
          "output_type": "stream",
          "name": "stdout",
          "text": [
            "313/313 [==============================] - 4s 12ms/step - loss: 0.9102 - accuracy: 0.6887\n"
          ]
        },
        {
          "output_type": "execute_result",
          "data": {
            "text/plain": [
              "[0.910194993019104, 0.6887000203132629]"
            ]
          },
          "metadata": {},
          "execution_count": 10
        }
      ]
    },
    {
      "cell_type": "code",
      "metadata": {
        "execution": {
          "iopub.execute_input": "2021-08-10T09:02:46.408024Z",
          "iopub.status.busy": "2021-08-10T09:02:46.407289Z",
          "iopub.status.idle": "2021-08-10T09:02:48.794570Z",
          "shell.execute_reply": "2021-08-10T09:02:48.793925Z",
          "shell.execute_reply.started": "2021-08-10T08:42:49.803063Z"
        },
        "papermill": {
          "duration": 4.084551,
          "end_time": "2021-08-10T09:02:48.794753",
          "exception": false,
          "start_time": "2021-08-10T09:02:44.710202",
          "status": "completed"
        },
        "tags": [],
        "colab": {
          "base_uri": "https://localhost:8080/"
        },
        "id": "19f51922",
        "outputId": "851a6a06-04ae-480a-86a1-02dc09644114"
      },
      "source": [
        "y_pred = cnn.predict(X_test)\n",
        "y_pred[:5]"
      ],
      "id": "19f51922",
      "execution_count": 11,
      "outputs": [
        {
          "output_type": "execute_result",
          "data": {
            "text/plain": [
              "array([[8.1789857e-03, 3.2624154e-04, 1.8743528e-02, 9.0172511e-01,\n",
              "        4.3426170e-03, 4.5145877e-02, 1.1527202e-02, 6.3253706e-04,\n",
              "        9.0506012e-03, 3.2737444e-04],\n",
              "       [6.3175246e-02, 5.9959543e-01, 5.5945950e-04, 2.1596929e-06,\n",
              "        5.8544970e-06, 6.1708181e-07, 4.0920543e-08, 4.0476158e-07,\n",
              "        3.3459017e-01, 2.0705422e-03],\n",
              "       [6.2589228e-02, 1.8106927e-01, 3.6305450e-03, 9.3804678e-04,\n",
              "        2.0256236e-03, 2.8471742e-04, 1.3379034e-04, 4.2548496e-04,\n",
              "        6.9552642e-01, 5.3376909e-02],\n",
              "       [6.3362634e-01, 1.6697595e-02, 8.6582657e-03, 4.7650584e-04,\n",
              "        1.1960666e-02, 4.7548442e-06, 2.9382596e-05, 6.8612258e-06,\n",
              "        3.2846251e-01, 7.7166638e-05],\n",
              "       [9.2514478e-05, 6.1599462e-04, 2.8343381e-02, 1.5289640e-01,\n",
              "        4.4004369e-01, 9.6983220e-03, 3.6635002e-01, 5.7965677e-05,\n",
              "        1.8264255e-03, 7.5219759e-05]], dtype=float32)"
            ]
          },
          "metadata": {},
          "execution_count": 11
        }
      ]
    },
    {
      "cell_type": "code",
      "metadata": {
        "execution": {
          "iopub.execute_input": "2021-08-10T09:02:52.287284Z",
          "iopub.status.busy": "2021-08-10T09:02:52.286542Z",
          "iopub.status.idle": "2021-08-10T09:02:52.322202Z",
          "shell.execute_reply": "2021-08-10T09:02:52.322748Z",
          "shell.execute_reply.started": "2021-08-10T08:42:55.012844Z"
        },
        "papermill": {
          "duration": 1.832312,
          "end_time": "2021-08-10T09:02:52.322935",
          "exception": false,
          "start_time": "2021-08-10T09:02:50.490623",
          "status": "completed"
        },
        "tags": [],
        "colab": {
          "base_uri": "https://localhost:8080/"
        },
        "id": "a460510e",
        "outputId": "9d02268b-cf9e-4348-a008-19743fab7fd5"
      },
      "source": [
        "y_classes = [np.argmax(element) for element in y_pred]\n",
        "y_classes[:5]"
      ],
      "id": "a460510e",
      "execution_count": 12,
      "outputs": [
        {
          "output_type": "execute_result",
          "data": {
            "text/plain": [
              "[3, 1, 8, 0, 4]"
            ]
          },
          "metadata": {},
          "execution_count": 12
        }
      ]
    },
    {
      "cell_type": "code",
      "metadata": {
        "execution": {
          "iopub.execute_input": "2021-08-10T09:02:55.693673Z",
          "iopub.status.busy": "2021-08-10T09:02:55.692223Z",
          "iopub.status.idle": "2021-08-10T09:02:55.697150Z",
          "shell.execute_reply": "2021-08-10T09:02:55.697743Z",
          "shell.execute_reply.started": "2021-08-10T08:42:57.497222Z"
        },
        "papermill": {
          "duration": 1.692015,
          "end_time": "2021-08-10T09:02:55.697921",
          "exception": false,
          "start_time": "2021-08-10T09:02:54.005906",
          "status": "completed"
        },
        "tags": [],
        "id": "6648ba8a"
      },
      "source": [
        "def plot_sample(X, y, index):\n",
        "    plt.figure(figsize = (15,2))\n",
        "    plt.imshow(X[index])\n",
        "    plt.xlabel(classes[y[index]])"
      ],
      "id": "6648ba8a",
      "execution_count": 13,
      "outputs": []
    },
    {
      "cell_type": "code",
      "metadata": {
        "execution": {
          "iopub.execute_input": "2021-08-10T09:02:59.122569Z",
          "iopub.status.busy": "2021-08-10T09:02:59.121958Z",
          "iopub.status.idle": "2021-08-10T09:02:59.262245Z",
          "shell.execute_reply": "2021-08-10T09:02:59.261744Z",
          "shell.execute_reply.started": "2021-08-10T08:42:59.670826Z"
        },
        "papermill": {
          "duration": 1.880601,
          "end_time": "2021-08-10T09:02:59.262386",
          "exception": false,
          "start_time": "2021-08-10T09:02:57.381785",
          "status": "completed"
        },
        "tags": [],
        "colab": {
          "base_uri": "https://localhost:8080/",
          "height": 173
        },
        "id": "35281dea",
        "outputId": "747187a5-d7eb-4faa-c49c-e918c7d19975"
      },
      "source": [
        "plot_sample(X_test, y_test,3)"
      ],
      "id": "35281dea",
      "execution_count": 14,
      "outputs": [
        {
          "output_type": "display_data",
          "data": {
            "image/png": "[encoded data removed]",
            "text/plain": [
              "<Figure size 1080x144 with 1 Axes>"
            ]
          },
          "metadata": {
            "needs_background": "light"
          }
        }
      ]
    },
    {
      "cell_type": "code",
      "metadata": {
        "execution": {
          "iopub.execute_input": "2021-08-10T09:03:02.656622Z",
          "iopub.status.busy": "2021-08-10T09:03:02.655835Z",
          "iopub.status.idle": "2021-08-10T09:03:02.659121Z",
          "shell.execute_reply": "2021-08-10T09:03:02.659714Z",
          "shell.execute_reply.started": "2021-08-10T08:43:02.128041Z"
        },
        "papermill": {
          "duration": 1.684753,
          "end_time": "2021-08-10T09:03:02.659880",
          "exception": false,
          "start_time": "2021-08-10T09:03:00.975127",
          "status": "completed"
        },
        "tags": [],
        "colab": {
          "base_uri": "https://localhost:8080/",
          "height": 35
        },
        "id": "80b5f7f8",
        "outputId": "820203d1-75f1-4246-97d4-89b27c097116"
      },
      "source": [
        "classes[y_classes[3]]"
      ],
      "id": "80b5f7f8",
      "execution_count": 15,
      "outputs": [
        {
          "output_type": "execute_result",
          "data": {
            "application/vnd.google.colaboratory.intrinsic+json": {
              "type": "string"
            },
            "text/plain": [
              "'airplane'"
            ]
          },
          "metadata": {},
          "execution_count": 15
        }
      ]
    },
    {
      "cell_type": "code",
      "metadata": {
        "execution": {
          "iopub.execute_input": "2021-08-10T09:03:06.131825Z",
          "iopub.status.busy": "2021-08-10T09:03:06.130733Z",
          "iopub.status.idle": "2021-08-10T09:03:06.163710Z",
          "shell.execute_reply": "2021-08-10T09:03:06.163013Z",
          "shell.execute_reply.started": "2021-08-10T08:44:35.634286Z"
        },
        "papermill": {
          "duration": 1.825925,
          "end_time": "2021-08-10T09:03:06.163860",
          "exception": false,
          "start_time": "2021-08-10T09:03:04.337935",
          "status": "completed"
        },
        "tags": [],
        "id": "392cfbb8"
      },
      "source": [
        "cnn.save(\"image_classifier.h5\")"
      ],
      "id": "392cfbb8",
      "execution_count": 16,
      "outputs": []
    },
    {
      "cell_type": "markdown",
      "metadata": {
        "id": "24b55703"
      },
      "source": [
        "# FRONTEND PART/ MODEL DEPLOYMENT"
      ],
      "id": "24b55703"
    },
    {
      "cell_type": "code",
      "metadata": {
        "colab": {
          "base_uri": "https://localhost:8080/"
        },
        "id": "7gIsBiF0IQBq",
        "outputId": "18bad60f-d8fc-477b-817c-8e415647e72a"
      },
      "source": [
        "!pip install dash\n",
        "!pip install jupyter_Dash\n",
        "!pip install jupyter-dash pyngrok -q\n",
        "!pip install dash-cytoscape==0.2.0\n"
      ],
      "id": "7gIsBiF0IQBq",
      "execution_count": 17,
      "outputs": [
        {
          "output_type": "stream",
          "name": "stdout",
          "text": [
            "Collecting dash\n",
            "  Downloading dash-1.21.0.tar.gz (1.1 MB)\n",
            "\u001b[?25l\r\u001b[K     |▎                               | 10 kB 29.9 MB/s eta 0:00:01\r\u001b[K     |▋                               | 20 kB 30.2 MB/s eta 0:00:01\r\u001b[K     |█                               | 30 kB 18.1 MB/s eta 0:00:01\r\u001b[K     |█▏                              | 40 kB 15.0 MB/s eta 0:00:01\r\u001b[K     |█▌                              | 51 kB 7.8 MB/s eta 0:00:01\r\u001b[K     |█▉                              | 61 kB 8.3 MB/s eta 0:00:01\r\u001b[K     |██▏                             | 71 kB 7.1 MB/s eta 0:00:01\r\u001b[K     |██▍                             | 81 kB 7.9 MB/s eta 0:00:01\r\u001b[K     |██▊                             | 92 kB 8.7 MB/s eta 0:00:01\r\u001b[K     |███                             | 102 kB 7.2 MB/s eta 0:00:01\r\u001b[K     |███▎                            | 112 kB 7.2 MB/s eta 0:00:01\r\u001b[K     |███▋                            | 122 kB 7.2 MB/s eta 0:00:01\r\u001b[K     |████                            | 133 kB 7.2 MB/s eta 0:00:01\r\u001b[K     |████▎                           | 143 kB 7.2 MB/s eta 0:00:01\r\u001b[K     |████▌                           | 153 kB 7.2 MB/s eta 0:00:01\r\u001b[K     |████▉                           | 163 kB 7.2 MB/s eta 0:00:01\r\u001b[K     |█████▏                          | 174 kB 7.2 MB/s eta 0:00:01\r\u001b[K     |█████▍                          | 184 kB 7.2 MB/s eta 0:00:01\r\u001b[K     |█████▊                          | 194 kB 7.2 MB/s eta 0:00:01\r\u001b[K     |██████                          | 204 kB 7.2 MB/s eta 0:00:01\r\u001b[K     |██████▍                         | 215 kB 7.2 MB/s eta 0:00:01\r\u001b[K     |██████▋                         | 225 kB 7.2 MB/s eta 0:00:01\r\u001b[K     |███████                         | 235 kB 7.2 MB/s eta 0:00:01\r\u001b[K     |███████▎                        | 245 kB 7.2 MB/s eta 0:00:01\r\u001b[K     |███████▌                        | 256 kB 7.2 MB/s eta 0:00:01\r\u001b[K     |███████▉                        | 266 kB 7.2 MB/s eta 0:00:01\r\u001b[K     |████████▏                       | 276 kB 7.2 MB/s eta 0:00:01\r\u001b[K     |████████▌                       | 286 kB 7.2 MB/s eta 0:00:01\r\u001b[K     |████████▊                       | 296 kB 7.2 MB/s eta 0:00:01\r\u001b[K     |█████████                       | 307 kB 7.2 MB/s eta 0:00:01\r\u001b[K     |█████████▍                      | 317 kB 7.2 MB/s eta 0:00:01\r\u001b[K     |█████████▊                      | 327 kB 7.2 MB/s eta 0:00:01\r\u001b[K     |██████████                      | 337 kB 7.2 MB/s eta 0:00:01\r\u001b[K     |██████████▎                     | 348 kB 7.2 MB/s eta 0:00:01\r\u001b[K     |██████████▋                     | 358 kB 7.2 MB/s eta 0:00:01\r\u001b[K     |██████████▉                     | 368 kB 7.2 MB/s eta 0:00:01\r\u001b[K     |███████████▏                    | 378 kB 7.2 MB/s eta 0:00:01\r\u001b[K     |███████████▌                    | 389 kB 7.2 MB/s eta 0:00:01\r\u001b[K     |███████████▉                    | 399 kB 7.2 MB/s eta 0:00:01\r\u001b[K     |████████████                    | 409 kB 7.2 MB/s eta 0:00:01\r\u001b[K     |████████████▍                   | 419 kB 7.2 MB/s eta 0:00:01\r\u001b[K     |████████████▊                   | 430 kB 7.2 MB/s eta 0:00:01\r\u001b[K     |█████████████                   | 440 kB 7.2 MB/s eta 0:00:01\r\u001b[K     |█████████████▎                  | 450 kB 7.2 MB/s eta 0:00:01\r\u001b[K     |█████████████▋                  | 460 kB 7.2 MB/s eta 0:00:01\r\u001b[K     |██████████████                  | 471 kB 7.2 MB/s eta 0:00:01\r\u001b[K     |██████████████▏                 | 481 kB 7.2 MB/s eta 0:00:01\r\u001b[K     |██████████████▌                 | 491 kB 7.2 MB/s eta 0:00:01\r\u001b[K     |██████████████▉                 | 501 kB 7.2 MB/s eta 0:00:01\r\u001b[K     |███████████████                 | 512 kB 7.2 MB/s eta 0:00:01\r\u001b[K     |███████████████▍                | 522 kB 7.2 MB/s eta 0:00:01\r\u001b[K     |███████████████▊                | 532 kB 7.2 MB/s eta 0:00:01\r\u001b[K     |████████████████                | 542 kB 7.2 MB/s eta 0:00:01\r\u001b[K     |████████████████▎               | 552 kB 7.2 MB/s eta 0:00:01\r\u001b[K     |████████████████▋               | 563 kB 7.2 MB/s eta 0:00:01\r\u001b[K     |█████████████████               | 573 kB 7.2 MB/s eta 0:00:01\r\u001b[K     |█████████████████▏              | 583 kB 7.2 MB/s eta 0:00:01\r\u001b[K     |█████████████████▌              | 593 kB 7.2 MB/s eta 0:00:01\r\u001b[K     |█████████████████▉              | 604 kB 7.2 MB/s eta 0:00:01\r\u001b[K     |██████████████████▏             | 614 kB 7.2 MB/s eta 0:00:01\r\u001b[K     |██████████████████▍             | 624 kB 7.2 MB/s eta 0:00:01\r\u001b[K     |██████████████████▊             | 634 kB 7.2 MB/s eta 0:00:01\r\u001b[K     |███████████████████             | 645 kB 7.2 MB/s eta 0:00:01\r\u001b[K     |███████████████████▍            | 655 kB 7.2 MB/s eta 0:00:01\r\u001b[K     |███████████████████▋            | 665 kB 7.2 MB/s eta 0:00:01\r\u001b[K     |████████████████████            | 675 kB 7.2 MB/s eta 0:00:01\r\u001b[K     |████████████████████▎           | 686 kB 7.2 MB/s eta 0:00:01\r\u001b[K     |████████████████████▌           | 696 kB 7.2 MB/s eta 0:00:01\r\u001b[K     |████████████████████▉           | 706 kB 7.2 MB/s eta 0:00:01\r\u001b[K     |█████████████████████▏          | 716 kB 7.2 MB/s eta 0:00:01\r\u001b[K     |█████████████████████▌          | 727 kB 7.2 MB/s eta 0:00:01\r\u001b[K     |█████████████████████▊          | 737 kB 7.2 MB/s eta 0:00:01\r\u001b[K     |██████████████████████          | 747 kB 7.2 MB/s eta 0:00:01\r\u001b[K     |██████████████████████▍         | 757 kB 7.2 MB/s eta 0:00:01\r\u001b[K     |██████████████████████▋         | 768 kB 7.2 MB/s eta 0:00:01\r\u001b[K     |███████████████████████         | 778 kB 7.2 MB/s eta 0:00:01\r\u001b[K     |███████████████████████▎        | 788 kB 7.2 MB/s eta 0:00:01\r\u001b[K     |███████████████████████▋        | 798 kB 7.2 MB/s eta 0:00:01\r\u001b[K     |███████████████████████▉        | 808 kB 7.2 MB/s eta 0:00:01\r\u001b[K     |████████████████████████▏       | 819 kB 7.2 MB/s eta 0:00:01\r\u001b[K     |████████████████████████▌       | 829 kB 7.2 MB/s eta 0:00:01\r\u001b[K     |████████████████████████▊       | 839 kB 7.2 MB/s eta 0:00:01\r\u001b[K     |█████████████████████████       | 849 kB 7.2 MB/s eta 0:00:01\r\u001b[K     |█████████████████████████▍      | 860 kB 7.2 MB/s eta 0:00:01\r\u001b[K     |█████████████████████████▊      | 870 kB 7.2 MB/s eta 0:00:01\r\u001b[K     |██████████████████████████      | 880 kB 7.2 MB/s eta 0:00:01\r\u001b[K     |██████████████████████████▎     | 890 kB 7.2 MB/s eta 0:00:01\r\u001b[K     |██████████████████████████▋     | 901 kB 7.2 MB/s eta 0:00:01\r\u001b[K     |███████████████████████████     | 911 kB 7.2 MB/s eta 0:00:01\r\u001b[K     |███████████████████████████▏    | 921 kB 7.2 MB/s eta 0:00:01\r\u001b[K     |███████████████████████████▌    | 931 kB 7.2 MB/s eta 0:00:01\r\u001b[K     |███████████████████████████▉    | 942 kB 7.2 MB/s eta 0:00:01\r\u001b[K     |████████████████████████████    | 952 kB 7.2 MB/s eta 0:00:01\r\u001b[K     |████████████████████████████▍   | 962 kB 7.2 MB/s eta 0:00:01\r\u001b[K     |████████████████████████████▊   | 972 kB 7.2 MB/s eta 0:00:01\r\u001b[K     |█████████████████████████████   | 983 kB 7.2 MB/s eta 0:00:01\r\u001b[K     |█████████████████████████████▎  | 993 kB 7.2 MB/s eta 0:00:01\r\u001b[K     |█████████████████████████████▋  | 1.0 MB 7.2 MB/s eta 0:00:01\r\u001b[K     |██████████████████████████████  | 1.0 MB 7.2 MB/s eta 0:00:01\r\u001b[K     |██████████████████████████████▏ | 1.0 MB 7.2 MB/s eta 0:00:01\r\u001b[K     |██████████████████████████████▌ | 1.0 MB 7.2 MB/s eta 0:00:01\r\u001b[K     |██████████████████████████████▉ | 1.0 MB 7.2 MB/s eta 0:00:01\r\u001b[K     |███████████████████████████████▏| 1.1 MB 7.2 MB/s eta 0:00:01\r\u001b[K     |███████████████████████████████▍| 1.1 MB 7.2 MB/s eta 0:00:01\r\u001b[K     |███████████████████████████████▊| 1.1 MB 7.2 MB/s eta 0:00:01\r\u001b[K     |████████████████████████████████| 1.1 MB 7.2 MB/s \n",
            "\u001b[?25hRequirement already satisfied: Flask>=1.0.4 in /usr/local/lib/python3.7/dist-packages (from dash) (1.1.4)\n",
            "Collecting flask-compress\n",
            "  Downloading Flask_Compress-1.10.1-py3-none-any.whl (7.9 kB)\n",
            "Requirement already satisfied: plotly in /usr/local/lib/python3.7/dist-packages (from dash) (4.4.1)\n",
            "Collecting dash-core-components==1.17.1\n",
            "  Downloading dash_core_components-1.17.1.tar.gz (3.7 MB)\n",
            "\u001b[K     |████████████████████████████████| 3.7 MB 35.3 MB/s \n",
            "\u001b[?25hCollecting dash-html-components==1.1.4\n",
            "  Downloading dash_html_components-1.1.4.tar.gz (83 kB)\n",
            "\u001b[K     |████████████████████████████████| 83 kB 2.4 MB/s \n",
            "\u001b[?25hCollecting dash-table==4.12.0\n",
            "  Downloading dash_table-4.12.0.tar.gz (1.8 MB)\n",
            "\u001b[K     |████████████████████████████████| 1.8 MB 25.9 MB/s \n",
            "\u001b[?25hRequirement already satisfied: future in /usr/local/lib/python3.7/dist-packages (from dash) (0.16.0)\n",
            "Requirement already satisfied: Jinja2<3.0,>=2.10.1 in /usr/local/lib/python3.7/dist-packages (from Flask>=1.0.4->dash) (2.11.3)\n",
            "Requirement already satisfied: click<8.0,>=5.1 in /usr/local/lib/python3.7/dist-packages (from Flask>=1.0.4->dash) (7.1.2)\n",
            "Requirement already satisfied: Werkzeug<2.0,>=0.15 in /usr/local/lib/python3.7/dist-packages (from Flask>=1.0.4->dash) (1.0.1)\n",
            "Requirement already satisfied: itsdangerous<2.0,>=0.24 in /usr/local/lib/python3.7/dist-packages (from Flask>=1.0.4->dash) (1.1.0)\n",
            "Requirement already satisfied: MarkupSafe>=0.23 in /usr/local/lib/python3.7/dist-packages (from Jinja2<3.0,>=2.10.1->Flask>=1.0.4->dash) (2.0.1)\n",
            "Collecting brotli\n",
            "  Downloading Brotli-1.0.9-cp37-cp37m-manylinux1_x86_64.whl (357 kB)\n",
            "\u001b[K     |████████████████████████████████| 357 kB 54.1 MB/s \n",
            "\u001b[?25hRequirement already satisfied: six in /usr/local/lib/python3.7/dist-packages (from plotly->dash) (1.15.0)\n",
            "Requirement already satisfied: retrying>=1.3.3 in /usr/local/lib/python3.7/dist-packages (from plotly->dash) (1.3.3)\n",
            "Building wheels for collected packages: dash, dash-core-components, dash-html-components, dash-table\n",
            "  Building wheel for dash (setup.py) ... \u001b[?25l\u001b[?25hdone\n",
            "  Created wheel for dash: filename=dash-1.21.0-py3-none-any.whl size=1100488 sha256=69e9d55e56423d44d4ae5ceb9151e9b99bc4b86239a87fced967c49d9feb9285\n",
            "  Stored in directory: /root/.cache/pip/wheels/59/a4/f1/a7140afcad8dbaa3b1b12ef80843d29403d6ecca1c2f397948\n",
            "  Building wheel for dash-core-components (setup.py) ... \u001b[?25l\u001b[?25hdone\n",
            "  Created wheel for dash-core-components: filename=dash_core_components-1.17.1-py3-none-any.whl size=3738997 sha256=1997b6117d73dec52c9d433cca7025b092391a71d3c9f5ced176dae0499d5f38\n",
            "  Stored in directory: /root/.cache/pip/wheels/ca/5b/fb/a135a7bf8e21223e4104aa5526a5173a20b64fe7fcd055b999\n",
            "  Building wheel for dash-html-components (setup.py) ... \u001b[?25l\u001b[?25hdone\n",
            "  Created wheel for dash-html-components: filename=dash_html_components-1.1.4-py3-none-any.whl size=319772 sha256=6de199d03f7501c131ced4e08cb2b500207fd7caedde2f72fec270afcd7650ae\n",
            "  Stored in directory: /root/.cache/pip/wheels/51/d7/5f/5730b784b5333941740a0dfc57b10395c3507b35ddac112ac0\n",
            "  Building wheel for dash-table (setup.py) ... \u001b[?25l\u001b[?25hdone\n",
            "  Created wheel for dash-table: filename=dash_table-4.12.0-py3-none-any.whl size=1837676 sha256=8e5c94283273f7b565cc7242741d0549bf42fa4e3a6484bb832e820a9ab5764c\n",
            "  Stored in directory: /root/.cache/pip/wheels/5f/d4/8b/639186e25b7234dac44ba004cfb58ea5b39fe492085bda2a88\n",
            "Successfully built dash dash-core-components dash-html-components dash-table\n",
            "Installing collected packages: brotli, flask-compress, dash-table, dash-html-components, dash-core-components, dash\n",
            "Successfully installed brotli-1.0.9 dash-1.21.0 dash-core-components-1.17.1 dash-html-components-1.1.4 dash-table-4.12.0 flask-compress-1.10.1\n",
            "Collecting jupyter_Dash\n",
            "  Downloading jupyter_dash-0.4.0-py3-none-any.whl (20 kB)\n",
            "Requirement already satisfied: flask in /usr/local/lib/python3.7/dist-packages (from jupyter_Dash) (1.1.4)\n",
            "Requirement already satisfied: ipython in /usr/local/lib/python3.7/dist-packages (from jupyter_Dash) (5.5.0)\n",
            "Collecting ansi2html\n",
            "  Downloading ansi2html-1.6.0-py3-none-any.whl (14 kB)\n",
            "Requirement already satisfied: retrying in /usr/local/lib/python3.7/dist-packages (from jupyter_Dash) (1.3.3)\n",
            "Requirement already satisfied: requests in /usr/local/lib/python3.7/dist-packages (from jupyter_Dash) (2.23.0)\n",
            "Requirement already satisfied: ipykernel in /usr/local/lib/python3.7/dist-packages (from jupyter_Dash) (4.10.1)\n",
            "Requirement already satisfied: dash in /usr/local/lib/python3.7/dist-packages (from jupyter_Dash) (1.21.0)\n",
            "Requirement already satisfied: dash-html-components==1.1.4 in /usr/local/lib/python3.7/dist-packages (from dash->jupyter_Dash) (1.1.4)\n",
            "Requirement already satisfied: plotly in /usr/local/lib/python3.7/dist-packages (from dash->jupyter_Dash) (4.4.1)\n",
            "Requirement already satisfied: flask-compress in /usr/local/lib/python3.7/dist-packages (from dash->jupyter_Dash) (1.10.1)\n",
            "Requirement already satisfied: dash-table==4.12.0 in /usr/local/lib/python3.7/dist-packages (from dash->jupyter_Dash) (4.12.0)\n",
            "Requirement already satisfied: future in /usr/local/lib/python3.7/dist-packages (from dash->jupyter_Dash) (0.16.0)\n",
            "Requirement already satisfied: dash-core-components==1.17.1 in /usr/local/lib/python3.7/dist-packages (from dash->jupyter_Dash) (1.17.1)\n",
            "Requirement already satisfied: Werkzeug<2.0,>=0.15 in /usr/local/lib/python3.7/dist-packages (from flask->jupyter_Dash) (1.0.1)\n",
            "Requirement already satisfied: click<8.0,>=5.1 in /usr/local/lib/python3.7/dist-packages (from flask->jupyter_Dash) (7.1.2)\n",
            "Requirement already satisfied: itsdangerous<2.0,>=0.24 in /usr/local/lib/python3.7/dist-packages (from flask->jupyter_Dash) (1.1.0)\n",
            "Requirement already satisfied: Jinja2<3.0,>=2.10.1 in /usr/local/lib/python3.7/dist-packages (from flask->jupyter_Dash) (2.11.3)\n",
            "Requirement already satisfied: MarkupSafe>=0.23 in /usr/local/lib/python3.7/dist-packages (from Jinja2<3.0,>=2.10.1->flask->jupyter_Dash) (2.0.1)\n",
            "Requirement already satisfied: brotli in /usr/local/lib/python3.7/dist-packages (from flask-compress->dash->jupyter_Dash) (1.0.9)\n",
            "Requirement already satisfied: jupyter-client in /usr/local/lib/python3.7/dist-packages (from ipykernel->jupyter_Dash) (5.3.5)\n",
            "Requirement already satisfied: traitlets>=4.1.0 in /usr/local/lib/python3.7/dist-packages (from ipykernel->jupyter_Dash) (5.0.5)\n",
            "Requirement already satisfied: tornado>=4.0 in /usr/local/lib/python3.7/dist-packages (from ipykernel->jupyter_Dash) (5.1.1)\n",
            "Requirement already satisfied: pickleshare in /usr/local/lib/python3.7/dist-packages (from ipython->jupyter_Dash) (0.7.5)\n",
            "Requirement already satisfied: prompt-toolkit<2.0.0,>=1.0.4 in /usr/local/lib/python3.7/dist-packages (from ipython->jupyter_Dash) (1.0.18)\n",
            "Requirement already satisfied: setuptools>=18.5 in /usr/local/lib/python3.7/dist-packages (from ipython->jupyter_Dash) (57.4.0)\n",
            "Requirement already satisfied: pygments in /usr/local/lib/python3.7/dist-packages (from ipython->jupyter_Dash) (2.6.1)\n",
            "Requirement already satisfied: decorator in /usr/local/lib/python3.7/dist-packages (from ipython->jupyter_Dash) (4.4.2)\n",
            "Requirement already satisfied: simplegeneric>0.8 in /usr/local/lib/python3.7/dist-packages (from ipython->jupyter_Dash) (0.8.1)\n",
            "Requirement already satisfied: pexpect in /usr/local/lib/python3.7/dist-packages (from ipython->jupyter_Dash) (4.8.0)\n",
            "Requirement already satisfied: wcwidth in /usr/local/lib/python3.7/dist-packages (from prompt-toolkit<2.0.0,>=1.0.4->ipython->jupyter_Dash) (0.2.5)\n",
            "Requirement already satisfied: six>=1.9.0 in /usr/local/lib/python3.7/dist-packages (from prompt-toolkit<2.0.0,>=1.0.4->ipython->jupyter_Dash) (1.15.0)\n",
            "Requirement already satisfied: ipython-genutils in /usr/local/lib/python3.7/dist-packages (from traitlets>=4.1.0->ipykernel->jupyter_Dash) (0.2.0)\n",
            "Requirement already satisfied: python-dateutil>=2.1 in /usr/local/lib/python3.7/dist-packages (from jupyter-client->ipykernel->jupyter_Dash) (2.8.2)\n",
            "Requirement already satisfied: pyzmq>=13 in /usr/local/lib/python3.7/dist-packages (from jupyter-client->ipykernel->jupyter_Dash) (22.2.1)\n",
            "Requirement already satisfied: jupyter-core>=4.6.0 in /usr/local/lib/python3.7/dist-packages (from jupyter-client->ipykernel->jupyter_Dash) (4.7.1)\n",
            "Requirement already satisfied: ptyprocess>=0.5 in /usr/local/lib/python3.7/dist-packages (from pexpect->ipython->jupyter_Dash) (0.7.0)\n",
            "Requirement already satisfied: chardet<4,>=3.0.2 in /usr/local/lib/python3.7/dist-packages (from requests->jupyter_Dash) (3.0.4)\n",
            "Requirement already satisfied: certifi>=2017.4.17 in /usr/local/lib/python3.7/dist-packages (from requests->jupyter_Dash) (2021.5.30)\n",
            "Requirement already satisfied: idna<3,>=2.5 in /usr/local/lib/python3.7/dist-packages (from requests->jupyter_Dash) (2.10)\n",
            "Requirement already satisfied: urllib3!=1.25.0,!=1.25.1,<1.26,>=1.21.1 in /usr/local/lib/python3.7/dist-packages (from requests->jupyter_Dash) (1.24.3)\n",
            "Installing collected packages: ansi2html, jupyter-Dash\n",
            "Successfully installed ansi2html-1.6.0 jupyter-Dash-0.4.0\n",
            "\u001b[K     |████████████████████████████████| 745 kB 7.3 MB/s \n",
            "\u001b[?25h  Building wheel for pyngrok (setup.py) ... \u001b[?25l\u001b[?25hdone\n",
            "Collecting dash-cytoscape==0.2.0\n",
            "  Downloading dash_cytoscape-0.2.0.tar.gz (3.6 MB)\n",
            "\u001b[K     |████████████████████████████████| 3.6 MB 8.5 MB/s \n",
            "\u001b[?25hRequirement already satisfied: dash in /usr/local/lib/python3.7/dist-packages (from dash-cytoscape==0.2.0) (1.21.0)\n",
            "Requirement already satisfied: dash-html-components==1.1.4 in /usr/local/lib/python3.7/dist-packages (from dash->dash-cytoscape==0.2.0) (1.1.4)\n",
            "Requirement already satisfied: future in /usr/local/lib/python3.7/dist-packages (from dash->dash-cytoscape==0.2.0) (0.16.0)\n",
            "Requirement already satisfied: dash-table==4.12.0 in /usr/local/lib/python3.7/dist-packages (from dash->dash-cytoscape==0.2.0) (4.12.0)\n",
            "Requirement already satisfied: dash-core-components==1.17.1 in /usr/local/lib/python3.7/dist-packages (from dash->dash-cytoscape==0.2.0) (1.17.1)\n",
            "Requirement already satisfied: flask-compress in /usr/local/lib/python3.7/dist-packages (from dash->dash-cytoscape==0.2.0) (1.10.1)\n",
            "Requirement already satisfied: Flask>=1.0.4 in /usr/local/lib/python3.7/dist-packages (from dash->dash-cytoscape==0.2.0) (1.1.4)\n",
            "Requirement already satisfied: plotly in /usr/local/lib/python3.7/dist-packages (from dash->dash-cytoscape==0.2.0) (4.4.1)\n",
            "Requirement already satisfied: Werkzeug<2.0,>=0.15 in /usr/local/lib/python3.7/dist-packages (from Flask>=1.0.4->dash->dash-cytoscape==0.2.0) (1.0.1)\n",
            "Requirement already satisfied: click<8.0,>=5.1 in /usr/local/lib/python3.7/dist-packages (from Flask>=1.0.4->dash->dash-cytoscape==0.2.0) (7.1.2)\n",
            "Requirement already satisfied: Jinja2<3.0,>=2.10.1 in /usr/local/lib/python3.7/dist-packages (from Flask>=1.0.4->dash->dash-cytoscape==0.2.0) (2.11.3)\n",
            "Requirement already satisfied: itsdangerous<2.0,>=0.24 in /usr/local/lib/python3.7/dist-packages (from Flask>=1.0.4->dash->dash-cytoscape==0.2.0) (1.1.0)\n",
            "Requirement already satisfied: MarkupSafe>=0.23 in /usr/local/lib/python3.7/dist-packages (from Jinja2<3.0,>=2.10.1->Flask>=1.0.4->dash->dash-cytoscape==0.2.0) (2.0.1)\n",
            "Requirement already satisfied: brotli in /usr/local/lib/python3.7/dist-packages (from flask-compress->dash->dash-cytoscape==0.2.0) (1.0.9)\n",
            "Requirement already satisfied: six in /usr/local/lib/python3.7/dist-packages (from plotly->dash->dash-cytoscape==0.2.0) (1.15.0)\n",
            "Requirement already satisfied: retrying>=1.3.3 in /usr/local/lib/python3.7/dist-packages (from plotly->dash->dash-cytoscape==0.2.0) (1.3.3)\n",
            "Building wheels for collected packages: dash-cytoscape\n",
            "  Building wheel for dash-cytoscape (setup.py) ... \u001b[?25l\u001b[?25hdone\n",
            "  Created wheel for dash-cytoscape: filename=dash_cytoscape-0.2.0-py3-none-any.whl size=3608263 sha256=ffca7905189423d2d1c45a5d93164805d610fd0f0e11eaa708b1663d7ed9c79a\n",
            "  Stored in directory: /root/.cache/pip/wheels/a5/e8/b4/3dc6455d3f714302ac2925128915e9ba6e1feb9013c5df1e19\n",
            "Successfully built dash-cytoscape\n",
            "Installing collected packages: dash-cytoscape\n",
            "Successfully installed dash-cytoscape-0.2.0\n"
          ]
        }
      ]
    },
    {
      "cell_type": "code",
      "metadata": {
        "colab": {
          "base_uri": "https://localhost:8080/"
        },
        "id": "FoWXx1SsMLWh",
        "outputId": "91b5fe79-1795-48bd-e4e4-ef0a07bfe375"
      },
      "source": [
        "from pyngrok import ngrok\n",
        "tunnel = ngrok.connect(8050)"
      ],
      "id": "FoWXx1SsMLWh",
      "execution_count": 18,
      "outputs": [
        {
          "output_type": "stream",
          "name": "stdout",
          "text": [
            ""
          ]
        }
      ]
    },
    {
      "cell_type": "code",
      "metadata": {
        "colab": {
          "base_uri": "https://localhost:8080/",
          "height": 118
        },
        "id": "fe9035dc",
        "outputId": "48c293ba-eafd-43c7-9b95-de4660572d5f"
      },
      "source": [
        "import datetime\n",
        "from jupyter_dash import JupyterDash  # pip install dash\n",
        "import dash_cytoscape as cyto  # pip install dash-cytoscape==0.2.0 or higher\n",
        "import dash_html_components as html\n",
        "import dash_core_components as dcc\n",
        "from dash.dependencies import Output, Input\n",
        "import pandas as pd  # pip install pandas\n",
        "import plotly.express as px\n",
        "import math\n",
        "from dash import no_update\n",
        "import dash\n",
        "from dash.dependencies import Input, Output, State\n",
        "import dash_core_components as dcc\n",
        "import dash_html_components as html\n",
        "import matplotlib.pyplot as plt\n",
        "import tensorflow as tf\n",
        "from tensorflow.keras import datasets, layers, models\n",
        "import numpy as np\n",
        "import PIL\n",
        "from PIL import Image\n",
        "import base64\n",
        "\n",
        "\n",
        "external_stylesheets = ['https://codepen.io/chriddyp/pen/bWLwgP.css']\n",
        "\n",
        "app = JupyterDash(__name__, external_stylesheets=external_stylesheets,server_url=tunnel.public_url)\n",
        "\n",
        "app.layout = html.Div([\n",
        "    html.H1(\"Image Recognizer\" , style={\"margin-top\":'2%',\"textAlign\": \"center\",'color':'#800000'}),\n",
        "    html.Br(),\n",
        "    html.H4(\"Please Drag/Drop Or Select Image You Wish To Recognise\",style={\"textAlign\": \"center\",'color':'black'}),\n",
        "    html.Br(),\n",
        "    dcc.Upload(\n",
        "        id='upload-image',\n",
        "        children=html.Div([\n",
        "            'Drag and Drop or ',\n",
        "            html.A('Select Files')\n",
        "        ]),\n",
        "        style={\n",
        "            'width': '100%',\n",
        "            'height': '75px',\n",
        "   \n",
        "            'lineHeight': '60px',\n",
        "            'borderWidth': '1px',\n",
        "            'borderStyle': 'dashed',\n",
        "            'borderRadius': '5px',\n",
        "            'textAlign': 'center',\n",
        "        },\n",
        "    ),\n",
        "    \n",
        "    html.Button('Recognize', id='recog', n_clicks=0,style={'margin-left': '42%',\n",
        "    'margin-top': '2%',\n",
        "    'height': '5rem',\n",
        "    'width': '20rem',\n",
        "    'color': 'white',\n",
        "    'background': '#800000',\n",
        "    'font-weight': 'bold',\n",
        "     'cursor': 'grab',\n",
        "    'font-size': '20px'}),\n",
        "    html.Br(),\n",
        "    html.Div(id='output-image-upload',style={'margin-top':\"2%\",'height':'300px'}),\n",
        "    \n",
        "])\n",
        "\n",
        "def getpred(img):\n",
        "    imgdata = base64.b64decode(img)\n",
        "    imgf = Image.frombytes(mode='RGB',size=(32,32),data=imgdata)\n",
        "    x = np.array(imgf)\n",
        "    x = 2. * x / 255. - 1\n",
        "    x = np.reshape(x, (1,32,32,3))\n",
        "    classes = [\"airplane\",\"automobile\",\"bird\",\"cat\",\"deer\",\"dog\",\"frog\",\"horse\",\"ship\",\"truck\"]\n",
        "    prob=cnn.predict(x)\n",
        "    y_class = [np.argmax(element) for element in prob]\n",
        "    return str(classes[y_class[0]])\n",
        "\n",
        "@app.callback(Output('output-image-upload', 'children'),\n",
        "              Input('upload-image', 'contents'),\n",
        "              Input('recog', 'n_clicks'),)\n",
        "def parse_contents(img,n_clicks):\n",
        "    if(n_clicks):\n",
        "        ans=getpred(img)\n",
        "        op=\"This is \"+ ans\n",
        "        return html.Div([\n",
        "            html.Img(src=img,style={'margin-left':'33%','margin-top':'2%','height':\"300px\"}),\n",
        "            html.H3(op,style={\"width\":'100%',\"textAlign\": \"center\",'color':'#800000','font-size': '30px','background':'#FFA500'}),\n",
        "        ],style={'width':'100%'})\n",
        "\n",
        "\n",
        "app.run_server(mode='external')"
      ],
      "id": "fe9035dc",
      "execution_count": 19,
      "outputs": [
        {
          "output_type": "stream",
          "name": "stdout",
          "text": [
            "Dash app running on:\n"
          ]
        },
        {
          "output_type": "stream",
          "name": "stderr",
          "text": [
            "/usr/local/lib/python3.7/dist-packages/jupyter_dash/jupyter_app.py:128: UserWarning:\n",
            "\n",
            "The server_url argument is ignored when running in Colab\n",
            "\n"
          ]
        },
        {
          "output_type": "display_data",
          "data": {
            "application/javascript": [
              "(async (port, path, text, element) => {\n",
              "    if (!google.colab.kernel.accessAllowed) {\n",
              "      return;\n",
              "    }\n",
              "    element.appendChild(document.createTextNode(''));\n",
              "    const url = await google.colab.kernel.proxyPort(port);\n",
              "    const anchor = document.createElement('a');\n",
              "    anchor.href = new URL(path, url).toString();\n",
              "    anchor.target = '_blank';\n",
              "    anchor.setAttribute('data-href', url + path);\n",
              "    anchor.textContent = text;\n",
              "    element.appendChild(anchor);\n",
              "  })(8050, \"/\", \"http://127.0.0.1:8050/\", window.element)"
            ],
            "text/plain": [
              "<IPython.core.display.Javascript object>"
            ]
          },
          "metadata": {}
        }
      ]
    },
    {
      "cell_type": "code",
      "metadata": {
        "id": "0ef523be"
      },
      "source": [
        ""
      ],
      "id": "0ef523be",
      "execution_count": 19,
      "outputs": []
    }
  ]
}